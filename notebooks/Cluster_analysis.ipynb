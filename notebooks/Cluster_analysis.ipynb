{
 "cells": [
  {
   "cell_type": "code",
   "execution_count": null,
   "metadata": {},
   "outputs": [],
   "source": [
    "%load_ext autoreload\n",
    "%autoreload "
   ]
  },
  {
   "cell_type": "code",
   "execution_count": null,
   "metadata": {},
   "outputs": [],
   "source": [
    "import online_retail_analysis.utils.paths as path\n",
    "from online_retail_analysis.features.build_features import Calculate_RFM\n",
    "import pandas as pd\n",
    "import numpy as np\n",
    "import matplotlib.pyplot as plt\n",
    "import seaborn as sns\n",
    "# sns.set_style(\"whitegrid\")\n",
    "%matplotlib inline\n",
    "pd.options.display.float_format = '{:,.3f}'.format"
   ]
  },
  {
   "cell_type": "code",
   "execution_count": null,
   "metadata": {},
   "outputs": [],
   "source": [
    "df_cluster = pd.read_csv(path.data_processed_dir('data_clustering.csv'))\n",
    "\n",
    "df_cluster"
   ]
  },
  {
   "cell_type": "code",
   "execution_count": null,
   "metadata": {},
   "outputs": [],
   "source": [
    "sns.boxenplot(x='Cluster', y='Recency', data=df_cluster)\n"
   ]
  },
  {
   "cell_type": "code",
   "execution_count": null,
   "metadata": {},
   "outputs": [],
   "source": [
    "sq1=df_cluster.groupby('Cluster')['CustomerID'].nunique().sort_values(ascending=False).reset_index()\n",
    "plt.figure(figsize=(12,8))\n",
    "sns.barplot(data=sq1, x=\"Cluster\", y=\"CustomerID\", palette = \"Set2\");"
   ]
  },
  {
   "cell_type": "code",
   "execution_count": null,
   "metadata": {},
   "outputs": [],
   "source": [
    "sq1=df_cluster.groupby('Cluster')['CustomerID'].nunique().sort_values(ascending=False).plot(kind='pie',cmap='Set2',figsize=(6,6),autopct='%1.1f%%')\n",
    "plt.show()"
   ]
  },
  {
   "cell_type": "code",
   "execution_count": null,
   "metadata": {},
   "outputs": [],
   "source": [
    "def rfm_values(df):\n",
    "    df_new = df.groupby(['Cluster']).agg({\n",
    "        'Recency': 'mean',\n",
    "        'Frequency': 'mean',\n",
    "        'MonetaryValue': ['mean']\n",
    "    }).round(0)\n",
    "    return df_new"
   ]
  },
  {
   "cell_type": "code",
   "execution_count": null,
   "metadata": {},
   "outputs": [],
   "source": [
    "# rfm_values(df_cluster).reset_index()\n",
    "df_cluster.groupby(['Cluster'])[['Recency','Frequency','MonetaryValue']].quantile(q=[0.25, 0.5, 0.75])"
   ]
  },
  {
   "cell_type": "markdown",
   "metadata": {},
   "source": [
    "clus_2 = 'Loyal Customers'\n",
    "clus_3 = 'Potential Costumers'\n",
    "clus_1 = 'Customers Needing Attention'\n",
    "clus_0 = 'Lost Customers'\n",
    "\n",
    "Cluster 2 => Loyal Customers => Spend good money with us often and responsive to promotions.\n",
    "\n",
    "Cluster 1 => Customer Need Attention => Above average recency, frequency and monetary values. May not have bought very recently though.\n",
    "\n",
    "Cluster 3 => Potential Loyalist => Recent customers, but spent a good amount and bought more than once.\n",
    "\n",
    "Cluster 0 => Lost Customer => Last purchase was long back, low spenders and low number of orders.\n",
    "\n",
    "Recommendation\n",
    "Based on the 4 clusters, we could formulate marketing strategies relevant to each cluster:\n",
    "\n",
    "Cluster 2 => Loyal Customers => Upsell higher value products, ask for reviews, and engage them.\n",
    "Cluster 1 => Customer Need Attention => Make limited time offers, recommend based on past purchases, share valuable resources, recommend popular products / renewals at discount, and reconnect with them.\n",
    "Cluster 3 => Potential Loyalist => Offer membership / loyalty program, and recommend other products.\n",
    "Cluster 0 => Lost Customer => Revive interest with reach out campaign, ignore otherwise, offer other relevant products and special discounts, and recreate brand value."
   ]
  },
  {
   "cell_type": "markdown",
   "metadata": {},
   "source": []
  }
 ],
 "metadata": {
  "interpreter": {
   "hash": "9f15ec451512926f5fc1cda92dbfb97ebde5aeedfb175af50b72b0fb57eaaab8"
  },
  "kernelspec": {
   "display_name": "Python 3.8.11 64-bit ('ds': conda)",
   "language": "python",
   "name": "python3"
  },
  "language_info": {
   "codemirror_mode": {
    "name": "ipython",
    "version": 3
   },
   "file_extension": ".py",
   "mimetype": "text/x-python",
   "name": "python",
   "nbconvert_exporter": "python",
   "pygments_lexer": "ipython3",
   "version": "3.8.11"
  },
  "orig_nbformat": 4
 },
 "nbformat": 4,
 "nbformat_minor": 2
}
