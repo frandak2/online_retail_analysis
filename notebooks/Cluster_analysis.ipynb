{
 "cells": [
  {
   "cell_type": "code",
   "execution_count": 1,
   "metadata": {},
   "outputs": [],
   "source": [
    "%load_ext autoreload\n",
    "%autoreload "
   ]
  },
  {
   "cell_type": "code",
   "execution_count": 2,
   "metadata": {},
   "outputs": [],
   "source": [
    "import online_retail_analysis.utils.paths as path\n",
    "from online_retail_analysis.features.build_features import Calculate_RFM\n",
    "import pandas as pd\n",
    "import numpy as np\n",
    "import matplotlib.pyplot as plt\n",
    "import seaborn as sns\n",
    "# sns.set_style(\"whitegrid\")\n",
    "%matplotlib inline\n",
    "pd.options.display.float_format = '{:,.3f}'.format"
   ]
  },
  {
   "cell_type": "code",
   "execution_count": 3,
   "metadata": {},
   "outputs": [
    {
     "data": {
      "text/html": [
       "<div>\n",
       "<style scoped>\n",
       "    .dataframe tbody tr th:only-of-type {\n",
       "        vertical-align: middle;\n",
       "    }\n",
       "\n",
       "    .dataframe tbody tr th {\n",
       "        vertical-align: top;\n",
       "    }\n",
       "\n",
       "    .dataframe thead th {\n",
       "        text-align: right;\n",
       "    }\n",
       "</style>\n",
       "<table border=\"1\" class=\"dataframe\">\n",
       "  <thead>\n",
       "    <tr style=\"text-align: right;\">\n",
       "      <th></th>\n",
       "      <th>CustomerID</th>\n",
       "      <th>Recency</th>\n",
       "      <th>MonetaryValue</th>\n",
       "      <th>Frequency</th>\n",
       "      <th>Cluster</th>\n",
       "    </tr>\n",
       "  </thead>\n",
       "  <tbody>\n",
       "    <tr>\n",
       "      <th>0</th>\n",
       "      <td>12,346.000</td>\n",
       "      <td>326</td>\n",
       "      <td>37.440</td>\n",
       "      <td>1</td>\n",
       "      <td>0</td>\n",
       "    </tr>\n",
       "    <tr>\n",
       "      <th>1</th>\n",
       "      <td>12,347.000</td>\n",
       "      <td>2</td>\n",
       "      <td>4,015.210</td>\n",
       "      <td>182</td>\n",
       "      <td>2</td>\n",
       "    </tr>\n",
       "    <tr>\n",
       "      <th>2</th>\n",
       "      <td>12,348.000</td>\n",
       "      <td>75</td>\n",
       "      <td>732.620</td>\n",
       "      <td>31</td>\n",
       "      <td>1</td>\n",
       "    </tr>\n",
       "    <tr>\n",
       "      <th>3</th>\n",
       "      <td>12,349.000</td>\n",
       "      <td>19</td>\n",
       "      <td>1,389.150</td>\n",
       "      <td>73</td>\n",
       "      <td>1</td>\n",
       "    </tr>\n",
       "    <tr>\n",
       "      <th>4</th>\n",
       "      <td>12,350.000</td>\n",
       "      <td>310</td>\n",
       "      <td>302.900</td>\n",
       "      <td>17</td>\n",
       "      <td>0</td>\n",
       "    </tr>\n",
       "    <tr>\n",
       "      <th>...</th>\n",
       "      <td>...</td>\n",
       "      <td>...</td>\n",
       "      <td>...</td>\n",
       "      <td>...</td>\n",
       "      <td>...</td>\n",
       "    </tr>\n",
       "    <tr>\n",
       "      <th>4333</th>\n",
       "      <td>18,280.000</td>\n",
       "      <td>278</td>\n",
       "      <td>177.700</td>\n",
       "      <td>10</td>\n",
       "      <td>0</td>\n",
       "    </tr>\n",
       "    <tr>\n",
       "      <th>4334</th>\n",
       "      <td>18,281.000</td>\n",
       "      <td>181</td>\n",
       "      <td>63.920</td>\n",
       "      <td>7</td>\n",
       "      <td>0</td>\n",
       "    </tr>\n",
       "    <tr>\n",
       "      <th>4335</th>\n",
       "      <td>18,282.000</td>\n",
       "      <td>8</td>\n",
       "      <td>162.250</td>\n",
       "      <td>12</td>\n",
       "      <td>3</td>\n",
       "    </tr>\n",
       "    <tr>\n",
       "      <th>4336</th>\n",
       "      <td>18,283.000</td>\n",
       "      <td>4</td>\n",
       "      <td>2,040.770</td>\n",
       "      <td>721</td>\n",
       "      <td>2</td>\n",
       "    </tr>\n",
       "    <tr>\n",
       "      <th>4337</th>\n",
       "      <td>18,287.000</td>\n",
       "      <td>43</td>\n",
       "      <td>1,700.960</td>\n",
       "      <td>70</td>\n",
       "      <td>1</td>\n",
       "    </tr>\n",
       "  </tbody>\n",
       "</table>\n",
       "<p>4338 rows × 5 columns</p>\n",
       "</div>"
      ],
      "text/plain": [
       "      CustomerID  Recency  MonetaryValue  Frequency  Cluster\n",
       "0     12,346.000      326         37.440          1        0\n",
       "1     12,347.000        2      4,015.210        182        2\n",
       "2     12,348.000       75        732.620         31        1\n",
       "3     12,349.000       19      1,389.150         73        1\n",
       "4     12,350.000      310        302.900         17        0\n",
       "...          ...      ...            ...        ...      ...\n",
       "4333  18,280.000      278        177.700         10        0\n",
       "4334  18,281.000      181         63.920          7        0\n",
       "4335  18,282.000        8        162.250         12        3\n",
       "4336  18,283.000        4      2,040.770        721        2\n",
       "4337  18,287.000       43      1,700.960         70        1\n",
       "\n",
       "[4338 rows x 5 columns]"
      ]
     },
     "execution_count": 3,
     "metadata": {},
     "output_type": "execute_result"
    }
   ],
   "source": [
    "df_cluster = pd.read_csv(path.data_processed_dir('data_clustering.csv'))\n",
    "\n",
    "df_cluster"
   ]
  },
  {
   "cell_type": "code",
   "execution_count": 4,
   "metadata": {},
   "outputs": [
    {
     "data": {
      "text/plain": [
       "<AxesSubplot:xlabel='Cluster', ylabel='Recency'>"
      ]
     },
     "execution_count": 4,
     "metadata": {},
     "output_type": "execute_result"
    },
    {
     "data": {
      "image/png": "[encoded data removed]",
      "text/plain": [
       "<Figure size 432x288 with 1 Axes>"
      ]
     },
     "metadata": {
      "needs_background": "light"
     },
     "output_type": "display_data"
    }
   ],
   "source": [
    "sns.boxenplot(x='Cluster', y='Recency', data=df_cluster)\n"
   ]
  },
  {
   "cell_type": "code",
   "execution_count": 6,
   "metadata": {},
   "outputs": [
    {
     "data": {
      "image/png": "[encoded data removed]",
      "text/plain": [
       "<Figure size 864x576 with 1 Axes>"
      ]
     },
     "metadata": {
      "needs_background": "light"
     },
     "output_type": "display_data"
    }
   ],
   "source": [
    "sq1=df_cluster.groupby('Cluster')['CustomerID'].nunique().sort_values(ascending=False).reset_index()\n",
    "plt.figure(figsize=(12,8))\n",
    "sns.barplot(data=sq1, x=\"Cluster\", y=\"CustomerID\", palette = \"Set2\");"
   ]
  },
  {
   "cell_type": "code",
   "execution_count": 8,
   "metadata": {},
   "outputs": [
    {
     "data": {
      "image/png": "[encoded data removed]",
      "text/plain": [
       "<Figure size 432x432 with 1 Axes>"
      ]
     },
     "metadata": {},
     "output_type": "display_data"
    }
   ],
   "source": [
    "sq1=df_cluster.groupby('Cluster')['CustomerID'].nunique().sort_values(ascending=False).plot(kind='pie',cmap='Set2',figsize=(6,6),autopct='%1.1f%%')\n",
    "plt.show()"
   ]
  },
  {
   "cell_type": "code",
   "execution_count": 15,
   "metadata": {},
   "outputs": [],
   "source": [
    "def rfm_values(df):\n",
    "    df_new = df.groupby(['Cluster']).agg({\n",
    "        'Recency': 'mean',\n",
    "        'Frequency': 'mean',\n",
    "        'MonetaryValue': ['mean']\n",
    "    }).round(0)\n",
    "    return df_new"
   ]
  },
  {
   "cell_type": "code",
   "execution_count": 19,
   "metadata": {},
   "outputs": [
    {
     "data": {
      "text/html": [
       "<div>\n",
       "<style scoped>\n",
       "    .dataframe tbody tr th:only-of-type {\n",
       "        vertical-align: middle;\n",
       "    }\n",
       "\n",
       "    .dataframe tbody tr th {\n",
       "        vertical-align: top;\n",
       "    }\n",
       "\n",
       "    .dataframe thead th {\n",
       "        text-align: right;\n",
       "    }\n",
       "</style>\n",
       "<table border=\"1\" class=\"dataframe\">\n",
       "  <thead>\n",
       "    <tr style=\"text-align: right;\">\n",
       "      <th></th>\n",
       "      <th></th>\n",
       "      <th>Recency</th>\n",
       "      <th>Frequency</th>\n",
       "      <th>MonetaryValue</th>\n",
       "    </tr>\n",
       "    <tr>\n",
       "      <th>Cluster</th>\n",
       "      <th></th>\n",
       "      <th></th>\n",
       "      <th></th>\n",
       "      <th></th>\n",
       "    </tr>\n",
       "  </thead>\n",
       "  <tbody>\n",
       "    <tr>\n",
       "      <th rowspan=\"3\" valign=\"top\">0</th>\n",
       "      <th>0.250</th>\n",
       "      <td>76.750</td>\n",
       "      <td>7.000</td>\n",
       "      <td>128.350</td>\n",
       "    </tr>\n",
       "    <tr>\n",
       "      <th>0.500</th>\n",
       "      <td>177.000</td>\n",
       "      <td>13.000</td>\n",
       "      <td>214.290</td>\n",
       "    </tr>\n",
       "    <tr>\n",
       "      <th>0.750</th>\n",
       "      <td>266.000</td>\n",
       "      <td>21.000</td>\n",
       "      <td>324.975</td>\n",
       "    </tr>\n",
       "    <tr>\n",
       "      <th rowspan=\"3\" valign=\"top\">1</th>\n",
       "      <th>0.250</th>\n",
       "      <td>39.000</td>\n",
       "      <td>41.000</td>\n",
       "      <td>633.627</td>\n",
       "    </tr>\n",
       "    <tr>\n",
       "      <th>0.500</th>\n",
       "      <td>65.500</td>\n",
       "      <td>62.000</td>\n",
       "      <td>889.675</td>\n",
       "    </tr>\n",
       "    <tr>\n",
       "      <th>0.750</th>\n",
       "      <td>114.000</td>\n",
       "      <td>93.000</td>\n",
       "      <td>1,375.270</td>\n",
       "    </tr>\n",
       "    <tr>\n",
       "      <th rowspan=\"3\" valign=\"top\">2</th>\n",
       "      <th>0.250</th>\n",
       "      <td>4.000</td>\n",
       "      <td>120.000</td>\n",
       "      <td>1,879.088</td>\n",
       "    </tr>\n",
       "    <tr>\n",
       "      <th>0.500</th>\n",
       "      <td>10.000</td>\n",
       "      <td>186.000</td>\n",
       "      <td>2,886.220</td>\n",
       "    </tr>\n",
       "    <tr>\n",
       "      <th>0.750</th>\n",
       "      <td>21.000</td>\n",
       "      <td>300.250</td>\n",
       "      <td>4,689.785</td>\n",
       "    </tr>\n",
       "    <tr>\n",
       "      <th rowspan=\"3\" valign=\"top\">3</th>\n",
       "      <th>0.250</th>\n",
       "      <td>7.000</td>\n",
       "      <td>18.000</td>\n",
       "      <td>261.700</td>\n",
       "    </tr>\n",
       "    <tr>\n",
       "      <th>0.500</th>\n",
       "      <td>15.000</td>\n",
       "      <td>30.000</td>\n",
       "      <td>406.670</td>\n",
       "    </tr>\n",
       "    <tr>\n",
       "      <th>0.750</th>\n",
       "      <td>23.000</td>\n",
       "      <td>47.000</td>\n",
       "      <td>645.930</td>\n",
       "    </tr>\n",
       "  </tbody>\n",
       "</table>\n",
       "</div>"
      ],
      "text/plain": [
       "               Recency  Frequency  MonetaryValue\n",
       "Cluster                                         \n",
       "0       0.250   76.750      7.000        128.350\n",
       "        0.500  177.000     13.000        214.290\n",
       "        0.750  266.000     21.000        324.975\n",
       "1       0.250   39.000     41.000        633.627\n",
       "        0.500   65.500     62.000        889.675\n",
       "        0.750  114.000     93.000      1,375.270\n",
       "2       0.250    4.000    120.000      1,879.088\n",
       "        0.500   10.000    186.000      2,886.220\n",
       "        0.750   21.000    300.250      4,689.785\n",
       "3       0.250    7.000     18.000        261.700\n",
       "        0.500   15.000     30.000        406.670\n",
       "        0.750   23.000     47.000        645.930"
      ]
     },
     "execution_count": 19,
     "metadata": {},
     "output_type": "execute_result"
    }
   ],
   "source": [
    "# rfm_values(df_cluster).reset_index()\n",
    "df_cluster.groupby(['Cluster'])[['Recency','Frequency','MonetaryValue']].quantile(q=[0.25, 0.5, 0.75])"
   ]
  },
  {
   "cell_type": "markdown",
   "metadata": {},
   "source": [
    "clus_2 = 'Loyal Customers'\n",
    "clus_3 = 'Potential Costumers'\n",
    "clus_1 = 'Customers Needing Attention'\n",
    "clus_0 = 'Lost Customers'\n",
    "\n",
    "Cluster 2 => Loyal Customers => Spend good money with us often and responsive to promotions.\n",
    "\n",
    "Cluster 1 => Customer Need Attention => Above average recency, frequency and monetary values. May not have bought very recently though.\n",
    "\n",
    "Cluster 3 => Potential Loyalist => Recent customers, but spent a good amount and bought more than once.\n",
    "\n",
    "Cluster 0 => Lost Customer => Last purchase was long back, low spenders and low number of orders.\n",
    "\n",
    "Recommendation\n",
    "Based on the 4 clusters, we could formulate marketing strategies relevant to each cluster:\n",
    "\n",
    "Cluster 2 => Loyal Customers => Upsell higher value products, ask for reviews, and engage them.\n",
    "Cluster 1 => Customer Need Attention => Make limited time offers, recommend based on past purchases, share valuable resources, recommend popular products / renewals at discount, and reconnect with them.\n",
    "Cluster 3 => Potential Loyalist => Offer membership / loyalty program, and recommend other products.\n",
    "Cluster 0 => Lost Customer => Revive interest with reach out campaign, ignore otherwise, offer other relevant products and special discounts, and recreate brand value."
   ]
  },
  {
   "cell_type": "markdown",
   "metadata": {},
   "source": []
  }
 ],
 "metadata": {
  "interpreter": {
   "hash": "9f15ec451512926f5fc1cda92dbfb97ebde5aeedfb175af50b72b0fb57eaaab8"
  },
  "kernelspec": {
   "display_name": "Python 3.8.11 64-bit ('ds': conda)",
   "language": "python",
   "name": "python3"
  },
  "language_info": {
   "codemirror_mode": {
    "name": "ipython",
    "version": 3
   },
   "file_extension": ".py",
   "mimetype": "text/x-python",
   "name": "python",
   "nbconvert_exporter": "python",
   "pygments_lexer": "ipython3",
   "version": "3.8.11"
  },
  "orig_nbformat": 4
 },
 "nbformat": 4,
 "nbformat_minor": 2
}
