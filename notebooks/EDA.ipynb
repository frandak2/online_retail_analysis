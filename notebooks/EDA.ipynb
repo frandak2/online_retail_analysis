{
 "cells": [
  {
   "cell_type": "code",
   "execution_count": null,
   "metadata": {},
   "outputs": [],
   "source": [
    "%load_ext autoreload\n",
    "%autoreload "
   ]
  },
  {
   "cell_type": "code",
   "execution_count": null,
   "metadata": {},
   "outputs": [],
   "source": [
    "import online_retail_analysis.utils.paths as path\n",
    "import pandas as pd\n",
    "import numpy as np\n",
    "import matplotlib.pyplot as plt\n",
    "import seaborn as sns\n",
    "from sklearn.preprocessing import StandardScaler\n",
    "from sklearn.cluster import KMeans,MiniBatchKMeans, AgglomerativeClustering\n",
    "from sklearn.preprocessing import OneHotEncoder\n",
    "from scipy import stats\n",
    "\n",
    "sns.set_style(\"whitegrid\")\n",
    "%matplotlib inline\n",
    "pd.options.display.float_format = '{:,.3f}'.format"
   ]
  },
  {
   "cell_type": "markdown",
   "metadata": {},
   "source": [
    "### Import data"
   ]
  },
  {
   "cell_type": "code",
   "execution_count": null,
   "metadata": {},
   "outputs": [],
   "source": [
    "df = pd.read_excel(path.data_raw_dir('Online Retail.xlsx')) \n",
    "#encoding = 'unicode_escape', engine ='python'\n",
    "df.sample(5)"
   ]
  },
  {
   "cell_type": "markdown",
   "metadata": {},
   "source": [
    "### Check data"
   ]
  },
  {
   "cell_type": "code",
   "execution_count": null,
   "metadata": {},
   "outputs": [],
   "source": [
    "df.info()#see the information"
   ]
  },
  {
   "cell_type": "code",
   "execution_count": null,
   "metadata": {},
   "outputs": [],
   "source": [
    "df_proces = df.copy() # create a copy the data\n",
    "df_proces.isna().sum() # see the number of row whit NaN"
   ]
  },
  {
   "cell_type": "code",
   "execution_count": null,
   "metadata": {},
   "outputs": [],
   "source": [
    "df_proces[df_proces.isnull().any(axis=1)] # see the null data by columns"
   ]
  },
  {
   "cell_type": "code",
   "execution_count": null,
   "metadata": {},
   "outputs": [],
   "source": [
    "df_proces.isnull().any(axis=0) # see null data from rows"
   ]
  },
  {
   "cell_type": "code",
   "execution_count": null,
   "metadata": {},
   "outputs": [],
   "source": [
    "df_proces.isnull().sum() # see all null data"
   ]
  },
  {
   "cell_type": "code",
   "execution_count": null,
   "metadata": {},
   "outputs": [],
   "source": [
    "df_proces = df_proces[pd.notnull(df_proces['CustomerID'])] # delete null data from Customer ID"
   ]
  },
  {
   "cell_type": "code",
   "execution_count": null,
   "metadata": {},
   "outputs": [],
   "source": [
    "df_proces.InvoiceNo.value_counts()"
   ]
  },
  {
   "cell_type": "code",
   "execution_count": null,
   "metadata": {},
   "outputs": [],
   "source": [
    "df_proces.duplicated().sum() #see the number of row duplicated"
   ]
  },
  {
   "cell_type": "code",
   "execution_count": null,
   "metadata": {},
   "outputs": [],
   "source": [
    "\n",
    "df_proces.drop_duplicates(inplace=True) # remove the duplicated\n",
    "\n",
    "df_proces.describe() # look the a little statistics \n"
   ]
  },
  {
   "cell_type": "code",
   "execution_count": null,
   "metadata": {},
   "outputs": [],
   "source": [
    "# delete Cancel transaccion \n",
    "df_proces['InvoiceNo'] = df_proces['InvoiceNo'].astype('str')\n",
    "df_proces = df_proces[~df_proces['InvoiceNo'].str.contains('C')]"
   ]
  },
  {
   "cell_type": "code",
   "execution_count": null,
   "metadata": {},
   "outputs": [],
   "source": [
    "# delete Price and Quantity less than 0\n",
    "df_proces = df_proces[df_proces.Quantity > 0]\n",
    "df_proces = df_proces[df_proces.UnitPrice > 0]"
   ]
  },
  {
   "cell_type": "code",
   "execution_count": null,
   "metadata": {},
   "outputs": [],
   "source": [
    "print('Number of customers: {}'.format(len(df_proces.CustomerID.unique())))\n",
    "\n",
    "print('Number of customers: {}'.format(len(df_proces.Country.unique())))\n",
    "\n",
    "# df_proces.Country.value_counts()\n"
   ]
  },
  {
   "cell_type": "code",
   "execution_count": null,
   "metadata": {},
   "outputs": [],
   "source": [
    "df_proces['date']= pd.to_datetime(df_proces['InvoiceDate'])\n",
    "df_proces['month'] = df_proces['date'].dt.month\n",
    "df_proces['days'] = df_proces['date'].dt.day_name()\n",
    "df_proces"
   ]
  },
  {
   "cell_type": "markdown",
   "metadata": {},
   "source": [
    "### Remove outliers from price and quantity"
   ]
  },
  {
   "cell_type": "code",
   "execution_count": null,
   "metadata": {},
   "outputs": [],
   "source": [
    "fig, axes= plt.subplots(1,2,figsize=(12,8))\n",
    "sns.boxplot(y='Quantity', data=df_proces, ax=axes[0])\n",
    "sns.boxplot(y='UnitPrice', data=df_proces, ax=axes[1])\n",
    "plt.show()"
   ]
  },
  {
   "cell_type": "code",
   "execution_count": null,
   "metadata": {},
   "outputs": [],
   "source": [
    "for col in ['Quantity','UnitPrice']:\n",
    "    p_05 = df_proces[col].quantile(0.05) # 5th quantile\n",
    "    p_95 = df_proces[col].quantile(0.95) # 95th quantile\n",
    "    df_proces[col].clip(p_05, p_95, inplace=True)\n",
    "fig, axes= plt.subplots(1,2,figsize=(12,8))\n",
    "sns.boxplot(y='Quantity', data=df_proces, ax=axes[0])\n",
    "sns.boxplot(y='UnitPrice', data=df_proces, ax=axes[1])\n",
    "plt.show()"
   ]
  },
  {
   "cell_type": "markdown",
   "metadata": {},
   "source": [
    "### Export Data Clean"
   ]
  },
  {
   "cell_type": "code",
   "execution_count": null,
   "metadata": {},
   "outputs": [],
   "source": [
    "df_proces.to_csv(path.data_processed_dir('data_clean.csv'),index=False)\n"
   ]
  },
  {
   "cell_type": "markdown",
   "metadata": {},
   "source": [
    "But how had the year? "
   ]
  }
 ],
 "metadata": {
  "interpreter": {
   "hash": "9f15ec451512926f5fc1cda92dbfb97ebde5aeedfb175af50b72b0fb57eaaab8"
  },
  "kernelspec": {
   "display_name": "Python 3.8.11 64-bit ('ds': conda)",
   "language": "python",
   "name": "python3"
  },
  "language_info": {
   "codemirror_mode": {
    "name": "ipython",
    "version": 3
   },
   "file_extension": ".py",
   "mimetype": "text/x-python",
   "name": "python",
   "nbconvert_exporter": "python",
   "pygments_lexer": "ipython3",
   "version": "3.8.11"
  },
  "orig_nbformat": 4
 },
 "nbformat": 4,
 "nbformat_minor": 2
}
