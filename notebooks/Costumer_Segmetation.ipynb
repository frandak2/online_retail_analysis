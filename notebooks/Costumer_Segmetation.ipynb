{
 "cells": [
  {
   "cell_type": "code",
   "execution_count": null,
   "metadata": {},
   "outputs": [],
   "source": [
    "%load_ext autoreload\n",
    "%autoreload "
   ]
  },
  {
   "cell_type": "markdown",
   "metadata": {},
   "source": [
    "### import library"
   ]
  },
  {
   "cell_type": "code",
   "execution_count": null,
   "metadata": {},
   "outputs": [],
   "source": [
    "import online_retail_analysis.utils.paths as path\n",
    "from online_retail_analysis.features.build_features import Calculate_RFM\n",
    "import pandas as pd\n",
    "import numpy as np\n",
    "import matplotlib.pyplot as plt\n",
    "import seaborn as sns\n",
    "from sklearn.preprocessing import FunctionTransformer ,StandardScaler\n",
    "from sklearn.cluster import MiniBatchKMeans as KMeans\n",
    "\n",
    "# sns.set_style(\"whitegrid\")\n",
    "%matplotlib inline\n",
    "pd.options.display.float_format = '{:,.3f}'.format"
   ]
  },
  {
   "cell_type": "markdown",
   "metadata": {},
   "source": [
    "### import data"
   ]
  },
  {
   "cell_type": "code",
   "execution_count": null,
   "metadata": {},
   "outputs": [],
   "source": [
    "df_proces = pd.read_csv(path.data_processed_dir('data_clean.csv'))\n",
    "df_proces['InvoiceDate']= pd.to_datetime(df_proces['InvoiceDate'])\n"
   ]
  },
  {
   "cell_type": "code",
   "execution_count": null,
   "metadata": {},
   "outputs": [],
   "source": [
    "df_proces.isna().sum()"
   ]
  },
  {
   "cell_type": "code",
   "execution_count": null,
   "metadata": {},
   "outputs": [],
   "source": [
    "df_proces"
   ]
  },
  {
   "cell_type": "markdown",
   "metadata": {},
   "source": [
    "### RFM Segmetation"
   ]
  },
  {
   "cell_type": "code",
   "execution_count": null,
   "metadata": {},
   "outputs": [],
   "source": [
    "from online_retail_analysis.features.build_features import Calculate_RFM , check_skew\n",
    "\n",
    "df_rfm_labeling = Calculate_RFM(df_proces,labels=True)\n",
    "df_rfm_labeling"
   ]
  },
  {
   "cell_type": "code",
   "execution_count": null,
   "metadata": {},
   "outputs": [],
   "source": [
    "df_rfm_labeling['label'].value_counts()"
   ]
  },
  {
   "cell_type": "code",
   "execution_count": null,
   "metadata": {},
   "outputs": [],
   "source": [
    "segmentation1=df_rfm_labeling.groupby('label')['CustomerID'].nunique().sort_values(ascending=False).reset_index()\n",
    "plt.figure(figsize=(17,8))\n",
    "segmentation1.drop([0],inplace=False)\n",
    "sns.barplot(data=segmentation1, x=\"label\", y=\"CustomerID\", palette = \"Set2\")"
   ]
  },
  {
   "cell_type": "code",
   "execution_count": null,
   "metadata": {},
   "outputs": [],
   "source": [
    "df_rfm = Calculate_RFM(df_proces,labels=False)\n",
    "\n",
    "new_rfm = df_rfm.drop('CustomerID', axis=1)\n",
    "\n",
    "new_rfm.head()"
   ]
  },
  {
   "cell_type": "code",
   "execution_count": null,
   "metadata": {},
   "outputs": [],
   "source": [
    "from online_retail_analysis.visualization.visualize import boxplot_vis\n",
    "boxplot_vis(new_rfm)\n"
   ]
  },
  {
   "cell_type": "code",
   "execution_count": null,
   "metadata": {},
   "outputs": [],
   "source": [
    "def rm_outliers(df, col):\n",
    "    p_05 = df[col].quantile(0.05) # 5th quantile\n",
    "    p_95 = df[col].quantile(0.95) # 95th quantile\n",
    "    df[col].clip(p_05, p_95, inplace=True)\n",
    "    return df"
   ]
  },
  {
   "cell_type": "code",
   "execution_count": null,
   "metadata": {},
   "outputs": [],
   "source": [
    "rfm_copy = new_rfm.copy()\n",
    "rm_outliers(rfm_copy , 'Recency')\n",
    "rm_outliers(rfm_copy , 'Frequency')\n",
    "rm_outliers(rfm_copy , 'MonetaryValue')\n",
    "boxplot_vis(rfm_copy)"
   ]
  },
  {
   "cell_type": "code",
   "execution_count": null,
   "metadata": {},
   "outputs": [],
   "source": [
    "plt.figure(figsize=(9, 9))\n",
    "\n",
    "plt.subplot(3, 1, 1)\n",
    "check_skew(rfm_copy,'Recency')\n",
    "\n",
    "plt.subplot(3, 1, 2)\n",
    "check_skew(rfm_copy,'Frequency')\n",
    "\n",
    "plt.subplot(3, 1, 3)\n",
    "check_skew(rfm_copy,'MonetaryValue')\n",
    "\n",
    "\n",
    "plt.tight_layout()\n",
    "plt.savefig(path.reports_figures_dir('before_transform.png'), format='png', dpi=1000)"
   ]
  },
  {
   "cell_type": "code",
   "execution_count": null,
   "metadata": {},
   "outputs": [],
   "source": [
    "\n",
    "transformer = FunctionTransformer(np.log)\n",
    "new_rfm_trans_log = transformer.fit_transform(rfm_copy)\n",
    "scaler = StandardScaler()\n",
    "new_rfm_trans_log_sc = scaler.fit_transform(new_rfm_trans_log)\n",
    "new_rfm_trans_log_sc = pd.DataFrame(new_rfm_trans_log_sc, columns=new_rfm_trans_log.columns)\n",
    "\n",
    "plt.figure(figsize=(9, 9))\n",
    "\n",
    "plt.subplot(3, 1, 1)\n",
    "check_skew(new_rfm_trans_log_sc,'Recency')\n",
    "\n",
    "plt.subplot(3, 1, 2)\n",
    "check_skew(new_rfm_trans_log_sc,'Frequency')\n",
    "\n",
    "plt.subplot(3, 1, 3)\n",
    "check_skew(new_rfm_trans_log_sc,'MonetaryValue')\n",
    "\n",
    "plt.tight_layout()\n",
    "plt.savefig(path.reports_figures_dir('after_transform_Scaler.png'), format='png', dpi=1000)"
   ]
  },
  {
   "cell_type": "code",
   "execution_count": null,
   "metadata": {},
   "outputs": [],
   "source": [
    "boxplot_vis(new_rfm_trans_log_sc)"
   ]
  },
  {
   "cell_type": "markdown",
   "metadata": {},
   "source": [
    "### K-Means cluster"
   ]
  },
  {
   "cell_type": "code",
   "execution_count": null,
   "metadata": {},
   "outputs": [],
   "source": [
    "def train_elbow_cluster(train,start=1,finish=10,each=1):\n",
    "    wcss = {} #dicionario vacio para guardar los errores\n",
    "    for i in range(start,finish,each):\n",
    "        kmeans = KMeans(n_clusters = i, init = 'k-means++', random_state = 42)\n",
    "        kmeans.fit(train)\n",
    "        wcss[i] = kmeans.inertia_ #suma de distancias cuadradas a los centros del grupos más cercanos\n",
    "    plt.title('Metodo de Elbow ')\n",
    "    plt.xlabel('k= n grupos')\n",
    "    plt.ylabel('WCSS')\n",
    "    sns.pointplot(x=list(wcss.keys()), y=list(wcss.values()))\n",
    "    plt.show()\n",
    "#    return wcss "
   ]
  },
  {
   "cell_type": "code",
   "execution_count": null,
   "metadata": {},
   "outputs": [],
   "source": [
    "X = np.asarray(new_rfm_trans_log_sc)\n",
    "train_elbow_cluster(X,finish=150,each=10)"
   ]
  },
  {
   "cell_type": "code",
   "execution_count": null,
   "metadata": {},
   "outputs": [],
   "source": [
    "train_elbow_cluster(X,finish=20,each=1)"
   ]
  },
  {
   "cell_type": "code",
   "execution_count": null,
   "metadata": {},
   "outputs": [],
   "source": [
    "def Kmeans(train, clusters_number, original_df_rfm):\n",
    "    kmeans = KMeans(n_clusters = clusters_number, random_state = 42)\n",
    "    # Predict the cluster\n",
    "    y_kmeans = kmeans.fit_predict(train)\n",
    "    # Create a cluster label column in original dataset\n",
    "    df_cluster = original_df_rfm.assign(Cluster = y_kmeans)\n",
    "    return df_cluster"
   ]
  },
  {
   "cell_type": "code",
   "execution_count": null,
   "metadata": {},
   "outputs": [],
   "source": [
    "rfm_k4 = Kmeans(X, 4, df_rfm)\n",
    "\n",
    "rfm_k5 = Kmeans(X, 5, df_rfm)\n",
    "\n",
    "rfm_k6 = Kmeans(X, 6, df_rfm)\n",
    "rfm_k4"
   ]
  },
  {
   "cell_type": "code",
   "execution_count": null,
   "metadata": {},
   "outputs": [],
   "source": [
    "def snake_plot(normalised_df_rfm, df_rfm_kmeans, df_rfm_original):\n",
    "\n",
    "    normalised_df_rfm = pd.DataFrame(normalised_df_rfm, \n",
    "                                       index=df_rfm_original.index, \n",
    "                                       columns=df_rfm_original.columns)\n",
    "    normalised_df_rfm['Cluster'] = df_rfm_kmeans['Cluster']\n",
    "    normalised_df_rfm['CustomerID'] = df_rfm_kmeans['CustomerID']\n",
    "    # Melt data into long format\n",
    "    df_melt = pd.melt(normalised_df_rfm.reset_index(), \n",
    "                    id_vars=['CustomerID', 'Cluster'],\n",
    "                    value_vars=['Recency', 'Frequency', 'MonetaryValue'], \n",
    "                    var_name='Metric', \n",
    "                    value_name='Value')\n",
    "    plt.xlabel('Metric')\n",
    "    plt.ylabel('Value')\n",
    "    sns.pointplot(data=df_melt, x='Metric', y='Value', hue='Cluster')\n",
    "    return"
   ]
  },
  {
   "cell_type": "code",
   "execution_count": null,
   "metadata": {},
   "outputs": [],
   "source": [
    "plt.figure(figsize=(9, 10))\n",
    "\n",
    "plt.subplot(3, 1, 1)\n",
    "plt.title('Snake Plot of K-Means = 4')\n",
    "snake_plot(new_rfm_trans_log_sc, rfm_k4, new_rfm)\n",
    "\n",
    "plt.subplot(3, 1, 2)\n",
    "plt.title('Snake Plot of K-Means = 5')\n",
    "snake_plot(new_rfm_trans_log_sc, rfm_k5, new_rfm)\n",
    "\n",
    "plt.subplot(3, 1, 3)\n",
    "plt.title('Snake Plot of K-Means = 6')\n",
    "snake_plot(new_rfm_trans_log_sc, rfm_k6, new_rfm)\n",
    "\n",
    "plt.tight_layout()"
   ]
  },
  {
   "cell_type": "markdown",
   "metadata": {},
   "source": [
    "## Evaluation model\n",
    "### Davies bouldin Score: The smaller Davies Bouldin Score is The more optimal the cluster."
   ]
  },
  {
   "cell_type": "code",
   "execution_count": null,
   "metadata": {},
   "outputs": [],
   "source": [
    "from sklearn.metrics import davies_bouldin_score\n",
    "from sklearn.metrics import silhouette_score\n",
    "print('davies score to k=4: {}'.format(davies_bouldin_score(X, rfm_k4.Cluster)))\n",
    "print('davies score to k=5: {}'.format(davies_bouldin_score(X, rfm_k5.Cluster)))\n",
    "print('davies score to k=6: {}'.format(davies_bouldin_score(X, rfm_k6.Cluster)))"
   ]
  },
  {
   "cell_type": "markdown",
   "metadata": {},
   "source": [
    "K-Means with 4 clusters has lowest davies bouldin score than other cluster. Therefore the optimum cluster is 4.\n",
    "\n",
    "### Silhouetter Score: The higher Silhouuter Score is the more optimal the cluster."
   ]
  },
  {
   "cell_type": "code",
   "execution_count": null,
   "metadata": {},
   "outputs": [],
   "source": [
    "print('davies score to k=4: {}'.format(silhouette_score(X, rfm_k4.Cluster)))\n",
    "print('davies score to k=5: {}'.format(silhouette_score(X, rfm_k5.Cluster)))\n",
    "print('davies score to k=6: {}'.format(silhouette_score(X, rfm_k6.Cluster)))\n"
   ]
  },
  {
   "cell_type": "markdown",
   "metadata": {},
   "source": [
    "K-Means with 4 clusters has higher Silhoutter score than other cluster. Therefore the optimum cluster is 4."
   ]
  },
  {
   "cell_type": "code",
   "execution_count": null,
   "metadata": {},
   "outputs": [],
   "source": [
    "rfm_k4.to_csv(path.data_processed_dir('data_clustering.csv'),index=False)"
   ]
  },
  {
   "cell_type": "code",
   "execution_count": null,
   "metadata": {},
   "outputs": [],
   "source": []
  }
 ],
 "metadata": {
  "interpreter": {
   "hash": "9f15ec451512926f5fc1cda92dbfb97ebde5aeedfb175af50b72b0fb57eaaab8"
  },
  "kernelspec": {
   "display_name": "Python 3.8.11 64-bit ('ds': conda)",
   "language": "python",
   "name": "python3"
  },
  "language_info": {
   "codemirror_mode": {
    "name": "ipython",
    "version": 3
   },
   "file_extension": ".py",
   "mimetype": "text/x-python",
   "name": "python",
   "nbconvert_exporter": "python",
   "pygments_lexer": "ipython3",
   "version": "3.8.11"
  },
  "orig_nbformat": 4
 },
 "nbformat": 4,
 "nbformat_minor": 2
}
