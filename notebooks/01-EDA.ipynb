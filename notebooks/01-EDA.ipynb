{
 "cells": [
  {
   "cell_type": "code",
   "metadata": {
    "cell_id": "00000-5c10d1d4-7738-44ec-a640-8ba6560736a9",
    "deepnote_cell_type": "code"
   },
   "source": "%load_ext autoreload\n%autoreload ",
   "outputs": [],
   "execution_count": null
  },
  {
   "cell_type": "code",
   "metadata": {
    "cell_id": "00001-1c06eea1-c963-49c8-92c4-b1b5d8548555",
    "deepnote_cell_type": "code"
   },
   "source": "import online_retail_analysis.utils.paths as path\nimport pandas as pd\nimport numpy as np\nimport matplotlib.pyplot as plt\nimport seaborn as sns\nfrom sklearn.preprocessing import StandardScaler\nfrom sklearn.cluster import KMeans,MiniBatchKMeans, AgglomerativeClustering\nfrom sklearn.preprocessing import OneHotEncoder\nfrom scipy import stats\n\nsns.set_style(\"whitegrid\")\n%matplotlib inline\npd.options.display.float_format = '{:,.3f}'.format",
   "outputs": [],
   "execution_count": null
  },
  {
   "cell_type": "markdown",
   "source": "### Import data",
   "metadata": {
    "cell_id": "00002-b4c8c451-8b00-416c-9e2c-0c2bf37a0523",
    "deepnote_cell_type": "markdown"
   }
  },
  {
   "cell_type": "code",
   "metadata": {
    "cell_id": "00003-004315c8-2bd5-48d9-96f6-2cf6dd492a96",
    "deepnote_cell_type": "code"
   },
   "source": "df = pd.read_excel(path.data_raw_dir('Online Retail.xlsx')) \n#encoding = 'unicode_escape', engine ='python'\ndf.sample(5)",
   "outputs": [],
   "execution_count": null
  },
  {
   "cell_type": "markdown",
   "source": "### Check data",
   "metadata": {
    "cell_id": "00004-0556ea18-be5d-46e6-8ba3-e9957bfa61dc",
    "deepnote_cell_type": "markdown"
   }
  },
  {
   "cell_type": "code",
   "metadata": {
    "cell_id": "00005-b48cbf4c-1dd5-4645-bf9a-7debf21b006c",
    "deepnote_cell_type": "code"
   },
   "source": "df.info()#see the information",
   "outputs": [],
   "execution_count": null
  },
  {
   "cell_type": "code",
   "metadata": {
    "cell_id": "00006-de883bf4-c35f-4c73-9992-4e4ea25f4552",
    "deepnote_cell_type": "code"
   },
   "source": "df_proces = df.copy() # create a copy the data\ndf_proces.isna().sum() # see the number of row whit NaN",
   "outputs": [],
   "execution_count": null
  },
  {
   "cell_type": "code",
   "metadata": {
    "cell_id": "00007-f9a8a328-6998-4264-a082-a81fcd82fff1",
    "deepnote_cell_type": "code"
   },
   "source": "df_proces[df_proces.isnull().any(axis=1)] # see the null data by columns",
   "outputs": [],
   "execution_count": null
  },
  {
   "cell_type": "code",
   "metadata": {
    "cell_id": "00008-1057bb18-0855-4a5f-91bb-7ff55f2557f9",
    "deepnote_cell_type": "code"
   },
   "source": "df_proces.isnull().any(axis=0) # see null data from rows",
   "outputs": [],
   "execution_count": null
  },
  {
   "cell_type": "code",
   "metadata": {
    "cell_id": "00009-53b651b4-af9c-4f10-bce9-84a3f41fda4e",
    "deepnote_cell_type": "code"
   },
   "source": "df_proces.isnull().sum() # see all null data",
   "outputs": [],
   "execution_count": null
  },
  {
   "cell_type": "code",
   "metadata": {
    "cell_id": "00010-75397786-203a-41cd-9e4f-afc4bfd1428e",
    "deepnote_cell_type": "code"
   },
   "source": "df_proces = df_proces[pd.notnull(df_proces['CustomerID'])] # delete null data from Customer ID",
   "outputs": [],
   "execution_count": null
  },
  {
   "cell_type": "code",
   "metadata": {
    "cell_id": "00011-322738ec-2a8d-4948-bca9-58c4608e0d56",
    "deepnote_cell_type": "code"
   },
   "source": "df_proces.InvoiceNo.value_counts()",
   "outputs": [],
   "execution_count": null
  },
  {
   "cell_type": "code",
   "metadata": {
    "cell_id": "00012-97c2a5a5-9d44-4554-985d-0135253755ce",
    "deepnote_cell_type": "code"
   },
   "source": "df_proces.duplicated().sum() #see the number of row duplicated",
   "outputs": [],
   "execution_count": null
  },
  {
   "cell_type": "code",
   "metadata": {
    "cell_id": "00013-a26e3ff2-092c-49b9-aae5-2d3d2432b1c9",
    "deepnote_cell_type": "code"
   },
   "source": "\ndf_proces.drop_duplicates(inplace=True) # remove the duplicated\n\ndf_proces.describe() # look the a little statistics \n",
   "outputs": [],
   "execution_count": null
  },
  {
   "cell_type": "code",
   "metadata": {
    "cell_id": "00014-1d0afb17-d348-4a1d-869a-171f305a9f7e",
    "deepnote_cell_type": "code"
   },
   "source": "# delete Cancel transaccion \ndf_proces['InvoiceNo'] = df_proces['InvoiceNo'].astype('str')\ndf_proces = df_proces[~df_proces['InvoiceNo'].str.contains('C')]",
   "outputs": [],
   "execution_count": null
  },
  {
   "cell_type": "code",
   "metadata": {
    "cell_id": "00015-376739b4-a888-43f1-8621-c9e944a893a5",
    "deepnote_cell_type": "code"
   },
   "source": "# delete Price and Quantity less than 0\ndf_proces = df_proces[df_proces.Quantity > 0]\ndf_proces = df_proces[df_proces.UnitPrice > 0]",
   "outputs": [],
   "execution_count": null
  },
  {
   "cell_type": "code",
   "metadata": {
    "cell_id": "00016-ebd6d917-19e8-4d55-a9de-cd0ac0fdc443",
    "deepnote_cell_type": "code"
   },
   "source": "print('Number of customers: {}'.format(len(df_proces.CustomerID.unique())))\n\nprint('Number of customers: {}'.format(len(df_proces.Country.unique())))\n\n# df_proces.Country.value_counts()\n",
   "outputs": [],
   "execution_count": null
  },
  {
   "cell_type": "code",
   "metadata": {
    "cell_id": "00017-b5cd3381-1724-45a2-94ee-c11e9afc7f34",
    "deepnote_cell_type": "code"
   },
   "source": "df_proces['date']= pd.to_datetime(df_proces['InvoiceDate'])\ndf_proces['month'] = df_proces['date'].dt.month\ndf_proces['days'] = df_proces['date'].dt.day_name()\ndf_proces",
   "outputs": [],
   "execution_count": null
  },
  {
   "cell_type": "markdown",
   "source": "### Remove outliers from price and quantity",
   "metadata": {
    "cell_id": "00018-3fc368b5-b088-4763-b0a2-6b2b4c0c295a",
    "deepnote_cell_type": "markdown"
   }
  },
  {
   "cell_type": "code",
   "metadata": {
    "cell_id": "00019-e2b67890-2b56-435e-a702-0493888e01af",
    "deepnote_cell_type": "code"
   },
   "source": "fig, axes= plt.subplots(1,2,figsize=(12,8))\nsns.boxplot(y='Quantity', data=df_proces, ax=axes[0])\nsns.boxplot(y='UnitPrice', data=df_proces, ax=axes[1])\nplt.show()",
   "outputs": [],
   "execution_count": null
  },
  {
   "cell_type": "code",
   "metadata": {
    "cell_id": "00020-eb46398d-6e44-41b3-a324-b0c0f99334fd",
    "deepnote_cell_type": "code"
   },
   "source": "for col in ['Quantity','UnitPrice']:\n    p_05 = df_proces[col].quantile(0.05) # 5th quantile\n    p_95 = df_proces[col].quantile(0.95) # 95th quantile\n    df_proces[col].clip(p_05, p_95, inplace=True)\nfig, axes= plt.subplots(1,2,figsize=(12,8))\nsns.boxplot(y='Quantity', data=df_proces, ax=axes[0])\nsns.boxplot(y='UnitPrice', data=df_proces, ax=axes[1])\nplt.show()",
   "outputs": [],
   "execution_count": null
  },
  {
   "cell_type": "markdown",
   "source": "### Export Data Clean",
   "metadata": {
    "cell_id": "00021-f981a8dc-d0c0-49ae-9b28-4c11783423bd",
    "deepnote_cell_type": "markdown"
   }
  },
  {
   "cell_type": "code",
   "metadata": {
    "cell_id": "00022-057d49ee-366e-4212-934e-b9b85f4266bb",
    "deepnote_cell_type": "code"
   },
   "source": "df_proces.to_csv(path.data_processed_dir('data_clean.csv'),index=False)\n",
   "outputs": [],
   "execution_count": null
  },
  {
   "cell_type": "markdown",
   "source": "But how had the year? ",
   "metadata": {
    "cell_id": "00023-99a6fc6b-3f11-45ba-a55c-4c9b65728680",
    "deepnote_cell_type": "markdown"
   }
  },
  {
   "cell_type": "markdown",
   "source": "<a style='text-decoration:none;line-height:16px;display:flex;color:#5B5B62;padding:10px;justify-content:end;' href='https://deepnote.com?utm_source=created-in-deepnote-cell&projectId=2ad5389b-d0fe-4f26-b030-dadc57d353b7' target=\"_blank\">\n<img alt='Created in deepnote.com' style='display:inline;max-height:16px;margin:0px;margin-right:7.5px;' src='data:image/svg+xml;base64,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' > </img>\nCreated in <span style='font-weight:600;margin-left:4px;'>Deepnote</span></a>",
   "metadata": {
    "tags": [],
    "created_in_deepnote_cell": true,
    "deepnote_cell_type": "markdown"
   }
  }
 ],
 "nbformat": 4,
 "nbformat_minor": 2,
 "metadata": {
  "interpreter": {
   "hash": "9f15ec451512926f5fc1cda92dbfb97ebde5aeedfb175af50b72b0fb57eaaab8"
  },
  "kernelspec": {
   "display_name": "Python 3.8.11 64-bit ('ds': conda)",
   "language": "python",
   "name": "python3"
  },
  "language_info": {
   "codemirror_mode": {
    "name": "ipython",
    "version": 3
   },
   "file_extension": ".py",
   "mimetype": "text/x-python",
   "name": "python",
   "nbconvert_exporter": "python",
   "pygments_lexer": "ipython3",
   "version": "3.8.11"
  },
  "orig_nbformat": 4,
  "deepnote_notebook_id": "68e4e61b-da4a-4ccc-8460-6e6a406f5d11",
  "deepnote": {},
  "deepnote_execution_queue": []
 }
}