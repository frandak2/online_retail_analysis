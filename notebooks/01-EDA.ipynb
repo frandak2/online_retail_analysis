{
 "cells": [
  {
   "cell_type": "code",
   "source": "#Solo correr en Deepnote\nimport os\ng = os.getcwd()\ng\npath = r'/work/online_retail_analysis'\nos.chdir(path)\n!pip install --editable .\n!pip install pyprojroot\n!pip install openpyxl",
   "metadata": {
    "tags": [],
    "cell_id": "00000-8e11de04-f847-4b8c-8ed2-b8b5222db98d",
    "deepnote_to_be_reexecuted": false,
    "source_hash": "80f1d77b",
    "execution_start": 1641274372000,
    "execution_millis": 14878,
    "deepnote_output_heights": [
     21.1875
    ],
    "deepnote_cell_type": "code"
   },
   "outputs": [
    {
     "name": "stdout",
     "text": "Obtaining file:///work/online_retail_analysis\nInstalling collected packages: online-retail-analysis\n  Attempting uninstall: online-retail-analysis\n    Found existing installation: online-retail-analysis 0.1.0\n    Uninstalling online-retail-analysis-0.1.0:\n      Successfully uninstalled online-retail-analysis-0.1.0\n  Running setup.py develop for online-retail-analysis\nSuccessfully installed online-retail-analysis\n\u001b[33mWARNING: You are using pip version 20.1.1; however, version 21.3.1 is available.\nYou should consider upgrading via the '/root/venv/bin/python -m pip install --upgrade pip' command.\u001b[0m\nRequirement already satisfied: pyprojroot in /root/venv/lib/python3.7/site-packages (0.2.0)\n\u001b[33mWARNING: You are using pip version 20.1.1; however, version 21.3.1 is available.\nYou should consider upgrading via the '/root/venv/bin/python -m pip install --upgrade pip' command.\u001b[0m\nCollecting openpyxl\n  Downloading openpyxl-3.0.9-py2.py3-none-any.whl (242 kB)\n\u001b[K     |████████████████████████████████| 242 kB 22.8 MB/s \n\u001b[?25hCollecting et-xmlfile\n  Downloading et_xmlfile-1.1.0-py3-none-any.whl (4.7 kB)\nInstalling collected packages: et-xmlfile, openpyxl\nSuccessfully installed et-xmlfile-1.1.0 openpyxl-3.0.9\n\u001b[33mWARNING: You are using pip version 20.1.1; however, version 21.3.1 is available.\nYou should consider upgrading via the '/root/venv/bin/python -m pip install --upgrade pip' command.\u001b[0m\n",
     "output_type": "stream",
     "data": {}
    }
   ],
   "execution_count": 34
  },
  {
   "cell_type": "code",
   "metadata": {
    "cell_id": "00000-5c10d1d4-7738-44ec-a640-8ba6560736a9",
    "deepnote_to_be_reexecuted": false,
    "source_hash": "92313f19",
    "execution_start": 1641274386887,
    "execution_millis": 769,
    "deepnote_cell_type": "code"
   },
   "source": "%load_ext autoreload\n%autoreload",
   "outputs": [
    {
     "name": "stdout",
     "text": "The autoreload extension is already loaded. To reload it, use:\n  %reload_ext autoreload\n",
     "output_type": "stream",
     "data": {}
    }
   ],
   "execution_count": 35
  },
  {
   "cell_type": "code",
   "metadata": {
    "cell_id": "00001-1c06eea1-c963-49c8-92c4-b1b5d8548555",
    "deepnote_to_be_reexecuted": false,
    "source_hash": "5177223b",
    "execution_start": 1641274387667,
    "execution_millis": 3,
    "deepnote_cell_type": "code"
   },
   "source": "import online_retail_analysis.utils.paths as path\nimport pandas as pd\nimport numpy as np\nimport matplotlib.pyplot as plt\nimport seaborn as sns\nfrom sklearn.preprocessing import StandardScaler\nfrom sklearn.cluster import KMeans,MiniBatchKMeans, AgglomerativeClustering\nfrom sklearn.preprocessing import OneHotEncoder\nfrom scipy import stats\n\nsns.set_style(\"whitegrid\")\n%matplotlib inline\npd.options.display.float_format = '{:,.3f}'.format",
   "outputs": [],
   "execution_count": 36
  },
  {
   "cell_type": "markdown",
   "source": "### Import data",
   "metadata": {
    "cell_id": "00002-b4c8c451-8b00-416c-9e2c-0c2bf37a0523",
    "deepnote_cell_type": "markdown"
   }
  },
  {
   "cell_type": "code",
   "metadata": {
    "cell_id": "00003-004315c8-2bd5-48d9-96f6-2cf6dd492a96",
    "deepnote_to_be_reexecuted": false,
    "source_hash": "3081e586",
    "execution_start": 1641274390208,
    "execution_millis": 132037,
    "deepnote_cell_type": "code"
   },
   "source": "df = pd.read_excel(path.data_raw_dir('Online Retail.xlsx')) \n#encoding = 'unicode_escape', engine ='python'\ndf.sample(5)",
   "outputs": [
    {
     "output_type": "execute_result",
     "execution_count": 37,
     "data": {
      "application/vnd.deepnote.dataframe.v3+json": {
       "column_count": 8,
       "row_count": 5,
       "columns": [
        {
         "name": "InvoiceNo",
         "dtype": "object",
         "stats": {
          "unique_count": 5,
          "nan_count": 0,
          "categories": [
           {
            "name": "547516",
            "count": 1
           },
           {
            "name": "570688",
            "count": 1
           },
           {
            "name": "3 others",
            "count": 3
           }
          ]
         }
        },
        {
         "name": "StockCode",
         "dtype": "object",
         "stats": {
          "unique_count": 5,
          "nan_count": 0,
          "categories": [
           {
            "name": "22423",
            "count": 1
           },
           {
            "name": "23263",
            "count": 1
           },
           {
            "name": "3 others",
            "count": 3
           }
          ]
         }
        },
        {
         "name": "Description",
         "dtype": "object",
         "stats": {
          "unique_count": 5,
          "nan_count": 0,
          "categories": [
           {
            "name": "REGENCY CAKESTAND 3 TIER",
            "count": 1
           },
           {
            "name": "SET OF 3 WOODEN HEART DECORATIONS",
            "count": 1
           },
           {
            "name": "3 others",
            "count": 3
           }
          ]
         }
        },
        {
         "name": "Quantity",
         "dtype": "int64",
         "stats": {
          "unique_count": 5,
          "nan_count": 0,
          "min": "2",
          "max": "32",
          "histogram": [
           {
            "bin_start": 2,
            "bin_end": 5,
            "count": 2
           },
           {
            "bin_start": 5,
            "bin_end": 8,
            "count": 0
           },
           {
            "bin_start": 8,
            "bin_end": 11,
            "count": 1
           },
           {
            "bin_start": 11,
            "bin_end": 14,
            "count": 0
           },
           {
            "bin_start": 14,
            "bin_end": 17,
            "count": 0
           },
           {
            "bin_start": 17,
            "bin_end": 20,
            "count": 0
           },
           {
            "bin_start": 20,
            "bin_end": 23,
            "count": 1
           },
           {
            "bin_start": 23,
            "bin_end": 26,
            "count": 0
           },
           {
            "bin_start": 26,
            "bin_end": 29,
            "count": 0
           },
           {
            "bin_start": 29,
            "bin_end": 32,
            "count": 1
           }
          ]
         }
        },
        {
         "name": "InvoiceDate",
         "dtype": "datetime64[ns]",
         "stats": {
          "unique_count": 5,
          "nan_count": 0,
          "min": "2010-12-01 12:58:00",
          "max": "2011-10-11 16:29:00",
          "histogram": [
           {
            "bin_start": 1291208280000000000,
            "bin_end": 1293922506000000000,
            "count": 2
           },
           {
            "bin_start": 1293922506000000000,
            "bin_end": 1296636732000000000,
            "count": 0
           },
           {
            "bin_start": 1296636732000000000,
            "bin_end": 1299350958000000000,
            "count": 0
           },
           {
            "bin_start": 1299350958000000000,
            "bin_end": 1302065184000000000,
            "count": 1
           },
           {
            "bin_start": 1302065184000000000,
            "bin_end": 1304779410000000000,
            "count": 0
           },
           {
            "bin_start": 1304779410000000000,
            "bin_end": 1307493636000000000,
            "count": 0
           },
           {
            "bin_start": 1307493636000000000,
            "bin_end": 1310207862000000000,
            "count": 0
           },
           {
            "bin_start": 1310207862000000000,
            "bin_end": 1312922088000000000,
            "count": 0
           },
           {
            "bin_start": 1312922088000000000,
            "bin_end": 1315636314000000000,
            "count": 0
           },
           {
            "bin_start": 1315636314000000000,
            "bin_end": 1318350540000000000,
            "count": 2
           }
          ]
         }
        },
        {
         "name": "UnitPrice",
         "dtype": "float64",
         "stats": {
          "unique_count": 5,
          "nan_count": 0,
          "min": "1.95",
          "max": "10.95",
          "histogram": [
           {
            "bin_start": 1.95,
            "bin_end": 2.85,
            "count": 2
           },
           {
            "bin_start": 2.85,
            "bin_end": 3.75,
            "count": 1
           },
           {
            "bin_start": 3.75,
            "bin_end": 4.65,
            "count": 1
           },
           {
            "bin_start": 4.65,
            "bin_end": 5.55,
            "count": 0
           },
           {
            "bin_start": 5.55,
            "bin_end": 6.45,
            "count": 0
           },
           {
            "bin_start": 6.45,
            "bin_end": 7.3500000000000005,
            "count": 0
           },
           {
            "bin_start": 7.3500000000000005,
            "bin_end": 8.25,
            "count": 0
           },
           {
            "bin_start": 8.25,
            "bin_end": 9.15,
            "count": 0
           },
           {
            "bin_start": 9.15,
            "bin_end": 10.049999999999999,
            "count": 0
           },
           {
            "bin_start": 10.049999999999999,
            "bin_end": 10.95,
            "count": 1
           }
          ]
         }
        },
        {
         "name": "CustomerID",
         "dtype": "float64",
         "stats": {
          "unique_count": 2,
          "nan_count": 3,
          "min": "14001.0",
          "max": "15189.0",
          "histogram": [
           {
            "bin_start": 14001,
            "bin_end": 14119.8,
            "count": 1
           },
           {
            "bin_start": 14119.8,
            "bin_end": 14238.6,
            "count": 0
           },
           {
            "bin_start": 14238.6,
            "bin_end": 14357.4,
            "count": 0
           },
           {
            "bin_start": 14357.4,
            "bin_end": 14476.2,
            "count": 0
           },
           {
            "bin_start": 14476.2,
            "bin_end": 14595,
            "count": 0
           },
           {
            "bin_start": 14595,
            "bin_end": 14713.8,
            "count": 0
           },
           {
            "bin_start": 14713.8,
            "bin_end": 14832.6,
            "count": 0
           },
           {
            "bin_start": 14832.6,
            "bin_end": 14951.4,
            "count": 0
           },
           {
            "bin_start": 14951.4,
            "bin_end": 15070.2,
            "count": 0
           },
           {
            "bin_start": 15070.2,
            "bin_end": 15189,
            "count": 1
           }
          ]
         }
        },
        {
         "name": "Country",
         "dtype": "object",
         "stats": {
          "unique_count": 1,
          "nan_count": 0,
          "categories": [
           {
            "name": "United Kingdom",
            "count": 5
           }
          ]
         }
        },
        {
         "name": "_deepnote_index_column",
         "dtype": "int64"
        }
       ],
       "rows": [
        {
         "InvoiceNo": "547516",
         "StockCode": "22423",
         "Description": "REGENCY CAKESTAND 3 TIER",
         "Quantity": 32,
         "InvoiceDate": "2011-03-23T14:04:00.000000",
         "UnitPrice": 10.95,
         "CustomerID": 15189,
         "Country": "United Kingdom",
         "_deepnote_index_column": 130894
        },
        {
         "InvoiceNo": "570688",
         "StockCode": "23263",
         "Description": "SET OF 3 WOODEN HEART DECORATIONS",
         "Quantity": 8,
         "InvoiceDate": "2011-10-11T16:29:00.000000",
         "UnitPrice": 2.46,
         "CustomerID": "nan",
         "Country": "United Kingdom",
         "_deepnote_index_column": 392095
        },
        {
         "InvoiceNo": "536526",
         "StockCode": "21929",
         "Description": "JUMBO BAG PINK VINTAGE PAISLEY",
         "Quantity": 20,
         "InvoiceDate": "2010-12-01T12:58:00.000000",
         "UnitPrice": 1.95,
         "CustomerID": 14001,
         "Country": "United Kingdom",
         "_deepnote_index_column": 1105
        },
        {
         "InvoiceNo": "569700",
         "StockCode": "22077",
         "Description": "6 RIBBONS RUSTIC CHARM",
         "Quantity": 2,
         "InvoiceDate": "2011-10-05T15:56:00.000000",
         "UnitPrice": 3.29,
         "CustomerID": "nan",
         "Country": "United Kingdom",
         "_deepnote_index_column": 379606
        },
        {
         "InvoiceNo": "537240",
         "StockCode": "21896",
         "Description": "POTTING SHED TWINE",
         "Quantity": 4,
         "InvoiceDate": "2010-12-06T10:08:00.000000",
         "UnitPrice": 4.21,
         "CustomerID": "nan",
         "Country": "United Kingdom",
         "_deepnote_index_column": 11135
        }
       ]
      },
      "text/plain": "       InvoiceNo StockCode                        Description  Quantity  \\\n130894    547516     22423           REGENCY CAKESTAND 3 TIER        32   \n392095    570688     23263  SET OF 3 WOODEN HEART DECORATIONS         8   \n1105      536526     21929     JUMBO BAG PINK VINTAGE PAISLEY        20   \n379606    569700     22077             6 RIBBONS RUSTIC CHARM         2   \n11135     537240     21896                 POTTING SHED TWINE         4   \n\n               InvoiceDate  UnitPrice  CustomerID         Country  \n130894 2011-03-23 14:04:00     10.950  15,189.000  United Kingdom  \n392095 2011-10-11 16:29:00      2.460         NaN  United Kingdom  \n1105   2010-12-01 12:58:00      1.950  14,001.000  United Kingdom  \n379606 2011-10-05 15:56:00      3.290         NaN  United Kingdom  \n11135  2010-12-06 10:08:00      4.210         NaN  United Kingdom  ",
      "text/html": "<div>\n<style scoped>\n    .dataframe tbody tr th:only-of-type {\n        vertical-align: middle;\n    }\n\n    .dataframe tbody tr th {\n        vertical-align: top;\n    }\n\n    .dataframe thead th {\n        text-align: right;\n    }\n</style>\n<table border=\"1\" class=\"dataframe\">\n  <thead>\n    <tr style=\"text-align: right;\">\n      <th></th>\n      <th>InvoiceNo</th>\n      <th>StockCode</th>\n      <th>Description</th>\n      <th>Quantity</th>\n      <th>InvoiceDate</th>\n      <th>UnitPrice</th>\n      <th>CustomerID</th>\n      <th>Country</th>\n    </tr>\n  </thead>\n  <tbody>\n    <tr>\n      <th>130894</th>\n      <td>547516</td>\n      <td>22423</td>\n      <td>REGENCY CAKESTAND 3 TIER</td>\n      <td>32</td>\n      <td>2011-03-23 14:04:00</td>\n      <td>10.950</td>\n      <td>15,189.000</td>\n      <td>United Kingdom</td>\n    </tr>\n    <tr>\n      <th>392095</th>\n      <td>570688</td>\n      <td>23263</td>\n      <td>SET OF 3 WOODEN HEART DECORATIONS</td>\n      <td>8</td>\n      <td>2011-10-11 16:29:00</td>\n      <td>2.460</td>\n      <td>NaN</td>\n      <td>United Kingdom</td>\n    </tr>\n    <tr>\n      <th>1105</th>\n      <td>536526</td>\n      <td>21929</td>\n      <td>JUMBO BAG PINK VINTAGE PAISLEY</td>\n      <td>20</td>\n      <td>2010-12-01 12:58:00</td>\n      <td>1.950</td>\n      <td>14,001.000</td>\n      <td>United Kingdom</td>\n    </tr>\n    <tr>\n      <th>379606</th>\n      <td>569700</td>\n      <td>22077</td>\n      <td>6 RIBBONS RUSTIC CHARM</td>\n      <td>2</td>\n      <td>2011-10-05 15:56:00</td>\n      <td>3.290</td>\n      <td>NaN</td>\n      <td>United Kingdom</td>\n    </tr>\n    <tr>\n      <th>11135</th>\n      <td>537240</td>\n      <td>21896</td>\n      <td>POTTING SHED TWINE</td>\n      <td>4</td>\n      <td>2010-12-06 10:08:00</td>\n      <td>4.210</td>\n      <td>NaN</td>\n      <td>United Kingdom</td>\n    </tr>\n  </tbody>\n</table>\n</div>"
     },
     "metadata": {}
    }
   ],
   "execution_count": 37
  },
  {
   "cell_type": "markdown",
   "source": "### Check data",
   "metadata": {
    "cell_id": "00004-0556ea18-be5d-46e6-8ba3-e9957bfa61dc",
    "deepnote_cell_type": "markdown"
   }
  },
  {
   "cell_type": "code",
   "metadata": {
    "cell_id": "00005-b48cbf4c-1dd5-4645-bf9a-7debf21b006c",
    "deepnote_to_be_reexecuted": false,
    "source_hash": "a113568f",
    "execution_start": 1641273520802,
    "execution_millis": 11,
    "deepnote_cell_type": "code"
   },
   "source": "df.info()#see the information",
   "outputs": [
    {
     "output_type": "error",
     "ename": "NameError",
     "evalue": "name 'df' is not defined",
     "traceback": [
      "\u001b[0;31m---------------------------------------------------------------------------\u001b[0m",
      "\u001b[0;31mNameError\u001b[0m                                 Traceback (most recent call last)",
      "\u001b[0;32m<ipython-input-11-6f6b66fcf87f>\u001b[0m in \u001b[0;36m<module>\u001b[0;34m\u001b[0m\n\u001b[0;32m----> 1\u001b[0;31m \u001b[0mdf\u001b[0m\u001b[0;34m.\u001b[0m\u001b[0minfo\u001b[0m\u001b[0;34m(\u001b[0m\u001b[0;34m)\u001b[0m\u001b[0;31m#see the information\u001b[0m\u001b[0;34m\u001b[0m\u001b[0;34m\u001b[0m\u001b[0m\n\u001b[0m",
      "\u001b[0;31mNameError\u001b[0m: name 'df' is not defined"
     ],
     "data": {}
    }
   ],
   "execution_count": 11
  },
  {
   "cell_type": "code",
   "metadata": {
    "cell_id": "00006-de883bf4-c35f-4c73-9992-4e4ea25f4552",
    "deepnote_to_be_reexecuted": false,
    "source_hash": "99dd34f9",
    "execution_start": 1641273521062,
    "execution_millis": 14,
    "deepnote_cell_type": "code"
   },
   "source": "df_proces = df.copy() # create a copy the data\ndf_proces.isna().sum() # see the number of row whit NaN",
   "outputs": [
    {
     "output_type": "error",
     "ename": "NameError",
     "evalue": "name 'df' is not defined",
     "traceback": [
      "\u001b[0;31m---------------------------------------------------------------------------\u001b[0m",
      "\u001b[0;31mNameError\u001b[0m                                 Traceback (most recent call last)",
      "\u001b[0;32m<ipython-input-12-3dee0c6a922b>\u001b[0m in \u001b[0;36m<module>\u001b[0;34m\u001b[0m\n\u001b[0;32m----> 1\u001b[0;31m \u001b[0mdf_proces\u001b[0m \u001b[0;34m=\u001b[0m \u001b[0mdf\u001b[0m\u001b[0;34m.\u001b[0m\u001b[0mcopy\u001b[0m\u001b[0;34m(\u001b[0m\u001b[0;34m)\u001b[0m \u001b[0;31m# create a copy the data\u001b[0m\u001b[0;34m\u001b[0m\u001b[0;34m\u001b[0m\u001b[0m\n\u001b[0m\u001b[1;32m      2\u001b[0m \u001b[0mdf_proces\u001b[0m\u001b[0;34m.\u001b[0m\u001b[0misna\u001b[0m\u001b[0;34m(\u001b[0m\u001b[0;34m)\u001b[0m\u001b[0;34m.\u001b[0m\u001b[0msum\u001b[0m\u001b[0;34m(\u001b[0m\u001b[0;34m)\u001b[0m \u001b[0;31m# see the number of row whit NaN\u001b[0m\u001b[0;34m\u001b[0m\u001b[0;34m\u001b[0m\u001b[0m\n",
      "\u001b[0;31mNameError\u001b[0m: name 'df' is not defined"
     ],
     "data": {}
    }
   ],
   "execution_count": 12
  },
  {
   "cell_type": "code",
   "metadata": {
    "cell_id": "00007-f9a8a328-6998-4264-a082-a81fcd82fff1",
    "deepnote_to_be_reexecuted": false,
    "source_hash": "2d8e11eb",
    "execution_start": 1641273521407,
    "execution_millis": 2,
    "deepnote_cell_type": "code"
   },
   "source": "df_proces[df_proces.isnull().any(axis=1)] # see the null data by columns",
   "outputs": [
    {
     "output_type": "error",
     "ename": "NameError",
     "evalue": "name 'df_proces' is not defined",
     "traceback": [
      "\u001b[0;31m---------------------------------------------------------------------------\u001b[0m",
      "\u001b[0;31mNameError\u001b[0m                                 Traceback (most recent call last)",
      "\u001b[0;32m<ipython-input-13-a50ad2cba131>\u001b[0m in \u001b[0;36m<module>\u001b[0;34m\u001b[0m\n\u001b[0;32m----> 1\u001b[0;31m \u001b[0mdf_proces\u001b[0m\u001b[0;34m[\u001b[0m\u001b[0mdf_proces\u001b[0m\u001b[0;34m.\u001b[0m\u001b[0misnull\u001b[0m\u001b[0;34m(\u001b[0m\u001b[0;34m)\u001b[0m\u001b[0;34m.\u001b[0m\u001b[0many\u001b[0m\u001b[0;34m(\u001b[0m\u001b[0maxis\u001b[0m\u001b[0;34m=\u001b[0m\u001b[0;36m1\u001b[0m\u001b[0;34m)\u001b[0m\u001b[0;34m]\u001b[0m \u001b[0;31m# see the null data by columns\u001b[0m\u001b[0;34m\u001b[0m\u001b[0;34m\u001b[0m\u001b[0m\n\u001b[0m",
      "\u001b[0;31mNameError\u001b[0m: name 'df_proces' is not defined"
     ],
     "data": {}
    }
   ],
   "execution_count": 13
  },
  {
   "cell_type": "code",
   "metadata": {
    "cell_id": "00008-1057bb18-0855-4a5f-91bb-7ff55f2557f9",
    "deepnote_cell_type": "code"
   },
   "source": "df_proces.isnull().any(axis=0) # see null data from rows",
   "outputs": [],
   "execution_count": null
  },
  {
   "cell_type": "code",
   "metadata": {
    "cell_id": "00009-53b651b4-af9c-4f10-bce9-84a3f41fda4e",
    "deepnote_cell_type": "code"
   },
   "source": "df_proces.isnull().sum() # see all null data",
   "outputs": [],
   "execution_count": null
  },
  {
   "cell_type": "code",
   "metadata": {
    "cell_id": "00010-75397786-203a-41cd-9e4f-afc4bfd1428e",
    "deepnote_cell_type": "code"
   },
   "source": "df_proces = df_proces[pd.notnull(df_proces['CustomerID'])] # delete null data from Customer ID",
   "outputs": [],
   "execution_count": null
  },
  {
   "cell_type": "code",
   "metadata": {
    "cell_id": "00011-322738ec-2a8d-4948-bca9-58c4608e0d56",
    "deepnote_cell_type": "code"
   },
   "source": "df_proces.InvoiceNo.value_counts()",
   "outputs": [],
   "execution_count": null
  },
  {
   "cell_type": "code",
   "metadata": {
    "cell_id": "00012-97c2a5a5-9d44-4554-985d-0135253755ce",
    "deepnote_cell_type": "code"
   },
   "source": "df_proces.duplicated().sum() #see the number of row duplicated",
   "outputs": [],
   "execution_count": null
  },
  {
   "cell_type": "code",
   "metadata": {
    "cell_id": "00013-a26e3ff2-092c-49b9-aae5-2d3d2432b1c9",
    "deepnote_cell_type": "code"
   },
   "source": "\ndf_proces.drop_duplicates(inplace=True) # remove the duplicated\n\ndf_proces.describe() # look the a little statistics \n",
   "outputs": [],
   "execution_count": null
  },
  {
   "cell_type": "code",
   "metadata": {
    "cell_id": "00014-1d0afb17-d348-4a1d-869a-171f305a9f7e",
    "deepnote_cell_type": "code"
   },
   "source": "# delete Cancel transaccion \ndf_proces['InvoiceNo'] = df_proces['InvoiceNo'].astype('str')\ndf_proces = df_proces[~df_proces['InvoiceNo'].str.contains('C')]",
   "outputs": [],
   "execution_count": null
  },
  {
   "cell_type": "code",
   "metadata": {
    "cell_id": "00015-376739b4-a888-43f1-8621-c9e944a893a5",
    "deepnote_cell_type": "code"
   },
   "source": "# delete Price and Quantity less than 0\ndf_proces = df_proces[df_proces.Quantity > 0]\ndf_proces = df_proces[df_proces.UnitPrice > 0]",
   "outputs": [],
   "execution_count": null
  },
  {
   "cell_type": "code",
   "metadata": {
    "cell_id": "00016-ebd6d917-19e8-4d55-a9de-cd0ac0fdc443",
    "deepnote_cell_type": "code"
   },
   "source": "print('Number of customers: {}'.format(len(df_proces.CustomerID.unique())))\n\nprint('Number of customers: {}'.format(len(df_proces.Country.unique())))\n\n# df_proces.Country.value_counts()\n",
   "outputs": [],
   "execution_count": null
  },
  {
   "cell_type": "code",
   "metadata": {
    "cell_id": "00017-b5cd3381-1724-45a2-94ee-c11e9afc7f34",
    "deepnote_cell_type": "code"
   },
   "source": "df_proces['date']= pd.to_datetime(df_proces['InvoiceDate'])\ndf_proces['month'] = df_proces['date'].dt.month\ndf_proces['days'] = df_proces['date'].dt.day_name()\ndf_proces",
   "outputs": [],
   "execution_count": null
  },
  {
   "cell_type": "markdown",
   "source": "### Remove outliers from price and quantity",
   "metadata": {
    "cell_id": "00018-3fc368b5-b088-4763-b0a2-6b2b4c0c295a",
    "deepnote_cell_type": "markdown"
   }
  },
  {
   "cell_type": "code",
   "metadata": {
    "cell_id": "00019-e2b67890-2b56-435e-a702-0493888e01af",
    "deepnote_cell_type": "code"
   },
   "source": "fig, axes= plt.subplots(1,2,figsize=(12,8))\nsns.boxplot(y='Quantity', data=df_proces, ax=axes[0])\nsns.boxplot(y='UnitPrice', data=df_proces, ax=axes[1])\nplt.show()",
   "outputs": [],
   "execution_count": null
  },
  {
   "cell_type": "code",
   "metadata": {
    "cell_id": "00020-eb46398d-6e44-41b3-a324-b0c0f99334fd",
    "deepnote_cell_type": "code"
   },
   "source": "for col in ['Quantity','UnitPrice']:\n    p_05 = df_proces[col].quantile(0.05) # 5th quantile\n    p_95 = df_proces[col].quantile(0.95) # 95th quantile\n    df_proces[col].clip(p_05, p_95, inplace=True)\nfig, axes= plt.subplots(1,2,figsize=(12,8))\nsns.boxplot(y='Quantity', data=df_proces, ax=axes[0])\nsns.boxplot(y='UnitPrice', data=df_proces, ax=axes[1])\nplt.show()",
   "outputs": [],
   "execution_count": null
  },
  {
   "cell_type": "markdown",
   "source": "### Export Data Clean",
   "metadata": {
    "cell_id": "00021-f981a8dc-d0c0-49ae-9b28-4c11783423bd",
    "deepnote_cell_type": "markdown"
   }
  },
  {
   "cell_type": "code",
   "metadata": {
    "cell_id": "00022-057d49ee-366e-4212-934e-b9b85f4266bb",
    "deepnote_cell_type": "code"
   },
   "source": "df_proces.to_csv(path.data_processed_dir('data_clean.csv'),index=False)\n",
   "outputs": [],
   "execution_count": null
  },
  {
   "cell_type": "markdown",
   "source": "But how had the year? ",
   "metadata": {
    "cell_id": "00023-99a6fc6b-3f11-45ba-a55c-4c9b65728680",
    "deepnote_cell_type": "markdown"
   }
  },
  {
   "cell_type": "markdown",
   "source": "<a style='text-decoration:none;line-height:16px;display:flex;color:#5B5B62;padding:10px;justify-content:end;' href='https://deepnote.com?utm_source=created-in-deepnote-cell&projectId=2ad5389b-d0fe-4f26-b030-dadc57d353b7' target=\"_blank\">\n<img alt='Created in deepnote.com' style='display:inline;max-height:16px;margin:0px;margin-right:7.5px;' src='data:image/svg+xml;base64,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' > </img>\nCreated in <span style='font-weight:600;margin-left:4px;'>Deepnote</span></a>",
   "metadata": {
    "tags": [],
    "created_in_deepnote_cell": true,
    "deepnote_cell_type": "markdown"
   }
  }
 ],
 "nbformat": 4,
 "nbformat_minor": 2,
 "metadata": {
  "interpreter": {
   "hash": "9f15ec451512926f5fc1cda92dbfb97ebde5aeedfb175af50b72b0fb57eaaab8"
  },
  "kernelspec": {
   "display_name": "Python 3.8.11 64-bit ('ds': conda)",
   "language": "python",
   "name": "python3"
  },
  "language_info": {
   "codemirror_mode": {
    "name": "ipython",
    "version": 3
   },
   "file_extension": ".py",
   "mimetype": "text/x-python",
   "name": "python",
   "nbconvert_exporter": "python",
   "pygments_lexer": "ipython3",
   "version": "3.8.11"
  },
  "orig_nbformat": 4,
  "deepnote_notebook_id": "68e4e61b-da4a-4ccc-8460-6e6a406f5d11",
  "deepnote": {},
  "deepnote_execution_queue": []
 }
}